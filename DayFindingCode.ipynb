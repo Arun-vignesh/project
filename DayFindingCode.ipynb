{
 "cells": [
  {
   "cell_type": "markdown",
   "metadata": {},
   "source": [
    "### My program for finding  the particular day given a date along with a year "
   ]
  },
  {
   "cell_type": "code",
   "execution_count": 14,
   "metadata": {},
   "outputs": [
    {
     "name": "stdout",
     "output_type": "stream",
     "text": [
      "The day of 7 jul 2000 is Friday\n",
      "The day of 7 jul 2001 is Saturday\n",
      "The day of 7 jul 2002 is Sunday\n",
      "The day of 7 jul 2003 is Monday\n",
      "The day of 7 jul 2004 is Wednesday\n",
      "The day of 7 jul 2005 is Thursday\n",
      "The day of 7 jul 2006 is Friday\n",
      "The day of 7 jul 2007 is Saturday\n",
      "The day of 7 jul 2008 is Monday\n",
      "The day of 7 jul 2009 is Tuesday\n",
      "The day of 7 jul 2010 is Wednesday\n",
      "The day of 7 jul 2011 is Thursday\n",
      "The day of 7 jul 2012 is Saturday\n",
      "The day of 7 jul 2013 is Sunday\n",
      "The day of 7 jul 2014 is Monday\n",
      "The day of 7 jul 2015 is Tuesday\n",
      "The day of 7 jul 2016 is Thursday\n",
      "The day of 7 jul 2017 is Friday\n",
      "The day of 7 jul 2018 is Saturday\n",
      "The day of 7 jul 2019 is Sunday\n",
      "The day of 7 jul 2020 is Tuesday\n",
      "The day of 7 jul 2021 is Wednesday\n",
      "The day of 7 jul 2022 is Thursday\n",
      "The day of 7 jul 2023 is Friday\n",
      "The day of 7 jul 2024 is Sunday\n",
      "The day of 7 jul 2025 is Monday\n",
      "The day of 7 jul 2026 is Tuesday\n",
      "The day of 7 jul 2027 is Wednesday\n",
      "The day of 7 jul 2028 is Friday\n",
      "The day of 7 jul 2029 is Saturday\n",
      "The day of 7 jul 2030 is Sunday\n",
      "The day of 7 jul 2031 is Monday\n",
      "The day of 7 jul 2032 is Wednesday\n",
      "The day of 7 jul 2033 is Thursday\n",
      "The day of 7 jul 2034 is Friday\n",
      "The day of 7 jul 2035 is Saturday\n",
      "The day of 7 jul 2036 is Monday\n",
      "The day of 7 jul 2037 is Tuesday\n",
      "The day of 7 jul 2038 is Wednesday\n",
      "The day of 7 jul 2039 is Thursday\n",
      "The day of 7 jul 2040 is Saturday\n",
      "The day of 7 jul 2041 is Sunday\n",
      "The day of 7 jul 2042 is Monday\n",
      "The day of 7 jul 2043 is Tuesday\n",
      "The day of 7 jul 2044 is Thursday\n",
      "The day of 7 jul 2045 is Friday\n",
      "The day of 7 jul 2046 is Saturday\n",
      "The day of 7 jul 2047 is Sunday\n",
      "The day of 7 jul 2048 is Tuesday\n",
      "The day of 7 jul 2049 is Wednesday\n"
     ]
    }
   ],
   "source": [
    "def dayFinding(year,month,date):\n",
    "    last2digit=year%100\n",
    "    quot=last2digit//4\n",
    "    quot=quot+last2digit\n",
    "    year_values={\n",
    "        1700:4,\n",
    "        1800:2,\n",
    "        1900:0,\n",
    "        2000:6,\n",
    "        2100:4\n",
    "        }\n",
    "    if year in range(1700,1800):\n",
    "        quot=quot+year_values[1700]\n",
    "    elif year in range(1800,1900):\n",
    "        quot=quot+year_values[1800]\n",
    "    elif year in range(1900,2000):\n",
    "        quot=quot+year_values[1900]\n",
    "    elif year in range(2000,2100):\n",
    "        quot=quot+year_values[2000]\n",
    "    elif year in range(2100,2200):\n",
    "        quot=quot+year_values[2100]\n",
    "    Y=quot\n",
    "    month_values={\n",
    "        \"jan\":1,\n",
    "        \"feb\":4,\n",
    "        \"mar\":4,\n",
    "        \"apr\":0,\n",
    "        \"may\":2,\n",
    "        \"jun\":5,\n",
    "        \"jul\":0,\n",
    "        \"aug\":3,\n",
    "        \"sep\":6,\n",
    "        \"oct\":1,\n",
    "        \"nov\":4,\n",
    "        \"dec\":6\n",
    "    }\n",
    "    if year%4==0 or year%100!=0 and year%400 is True:\n",
    "        if month==\"jan\":\n",
    "            M=month_values[\"jan\"]-1\n",
    "        elif month==\"feb\":\n",
    "            M=month_values[\"feb\"]-1\n",
    "        else:\n",
    "            M=month_values[month]\n",
    "    else:\n",
    "        M=month_values[month]\n",
    "    D=date\n",
    "    week_days={\n",
    "        0:\"Saturday\",\n",
    "        1:\"Sunday\",\n",
    "        2:\"Monday\",\n",
    "        3:\"Tuesday\",\n",
    "        4:\"Wednesday\",\n",
    "        5:\"Thursday\",\n",
    "        6:\"Friday\"\n",
    "    }\n",
    "    sum_tot=Y+M+D\n",
    "    code=sum_tot%7\n",
    "    print(\"The day of {} {} {} is\".format(date,month,year)+\" \"+week_days[code])\n",
    "for i in range(2000,2050):\n",
    "    dayFinding(i,'jul',7)"
   ]
  },
  {
   "cell_type": "markdown",
   "metadata": {},
   "source": [
    "##### Reading the input values"
   ]
  },
  {
   "cell_type": "markdown",
   "metadata": {},
   "source": [
    "#### Finding Y\n",
    "    Year:Values\n",
    "    1700:4\n",
    "    1800:2\n",
    "    1900:0\n",
    "    2000:6\n",
    "    2100:4"
   ]
  },
  {
   "cell_type": "markdown",
   "metadata": {},
   "source": [
    "last2digit=year%100\n",
    "quot=last2digit//4\n",
    "quot=quot+last2digit\n",
    "year_values={\n",
    "    1700:4,\n",
    "    1800:2,\n",
    "    1900:0,\n",
    "    2000:6,\n",
    "    2100:4\n",
    "}\n",
    "print(quot)"
   ]
  },
  {
   "cell_type": "markdown",
   "metadata": {},
   "source": [
    "#### Checking the range of the year"
   ]
  },
  {
   "cell_type": "markdown",
   "metadata": {},
   "source": [
    "if year in range(1700,1800):\n",
    "    quot=quot+year_values[1700]\n",
    "elif year in range(1800,1900):\n",
    "    quot=quot+year_values[1800]\n",
    "elif year in range(1900,2000):\n",
    "    quot=quot+year_values[1900]\n",
    "elif year in range(2000,2100):\n",
    "    quot=quot+year_values[2000]\n",
    "elif year in range(2100,2200):\n",
    "    quot=quot+year_values[2100]\n",
    "Y=quot\n",
    "print(Y)"
   ]
  },
  {
   "cell_type": "markdown",
   "metadata": {},
   "source": [
    "#### Finding M  (Check special conditions for leap year)"
   ]
  },
  {
   "cell_type": "markdown",
   "metadata": {},
   "source": [
    "month_values={\n",
    "    \"jan\":1,\n",
    "    \"feb\":4,\n",
    "    \"mar\":4,\n",
    "    \"apr\":0,\n",
    "    \"may\":2,\n",
    "    \"jun\":5,\n",
    "    \"jul\":0,\n",
    "    \"aug\":3,\n",
    "    \"sep\":6,\n",
    "    \"oct\":1,\n",
    "    \"nov\":4,\n",
    "    \"dec\":6\n",
    "}\n",
    "if year%4==0 or year%100!=0 and year%400 is True:\n",
    "    if month==\"jan\":\n",
    "        M=month_values[\"jan\"]-1\n",
    "    elif month==\"feb\":\n",
    "        M=month_values[\"feb\"]-1\n",
    "    else:\n",
    "        M=month_values[month]\n",
    "else:\n",
    "    M=month_values[month]\n",
    "print(M)"
   ]
  },
  {
   "cell_type": "markdown",
   "metadata": {},
   "source": [
    "#### Finding D"
   ]
  },
  {
   "cell_type": "markdown",
   "metadata": {},
   "source": [
    "D=date\n",
    "print(D)"
   ]
  },
  {
   "cell_type": "markdown",
   "metadata": {},
   "source": [
    "#### Finding the day of the given date "
   ]
  },
  {
   "cell_type": "markdown",
   "metadata": {},
   "source": [
    "week_days={\n",
    "    0:\"Saturday\",\n",
    "    1:\"Sunday\",\n",
    "    2:\"Monday\",\n",
    "    3:\"Tuesday\",\n",
    "    4:\"Wednesday\",\n",
    "    5:\"Thursday\",\n",
    "    6:\"Friday\"\n",
    "}\n",
    "sum_tot=Y+M+D\n",
    "code=sum_tot%7\n",
    "print(code)\n",
    "print(\"The day of {} {} {} is\".format(date,month,year)+\" \"+week_days[code])\n"
   ]
  }
 ],
 "metadata": {
  "kernelspec": {
   "display_name": "Python 3",
   "language": "python",
   "name": "python3"
  },
  "language_info": {
   "codemirror_mode": {
    "name": "ipython",
    "version": 3
   },
   "file_extension": ".py",
   "mimetype": "text/x-python",
   "name": "python",
   "nbconvert_exporter": "python",
   "pygments_lexer": "ipython3",
   "version": "3.7.3"
  }
 },
 "nbformat": 4,
 "nbformat_minor": 2
}
